{
 "cells": [
  {
   "cell_type": "code",
   "execution_count": 1,
   "metadata": {
    "collapsed": true
   },
   "outputs": [],
   "source": [
    "# Data analysis of RPT with only 1 detector in straigth line\n",
    "# data extracted from CEDIA sever with GEANT4 application\n",
    "# GEANT4 application and data analysis done by:\n",
    "# Sebastian Sarasti-Zambonino"
   ]
  },
  {
   "cell_type": "code",
   "execution_count": 2,
   "outputs": [],
   "source": [
    "# import basic libraries\n",
    "import numpy as np\n",
    "import pandas as pd\n",
    "import matplotlib.pyplot as plt"
   ],
   "metadata": {
    "collapsed": false,
    "pycharm": {
     "name": "#%%\n"
    }
   }
  },
  {
   "cell_type": "code",
   "execution_count": 3,
   "outputs": [],
   "source": [
    "# load all the data in np array\n",
    "files=np.arange(1,2037,1, dtype=int)\n",
    "nom_file=[]\n",
    "for i in range(len(files)):\n",
    "    nom_file.append('NaIDetector_pos'+str(files[i])+'.dat')"
   ],
   "metadata": {
    "collapsed": false,
    "pycharm": {
     "name": "#%%\n"
    }
   }
  },
  {
   "cell_type": "code",
   "source": [
    "# create a empty array to save the data\n",
    "data_e1=[]; data_e2=[]; data_e3=[]\n",
    "data_e4=[]; data_e5=[]; data_e6=[]\n",
    "data_e7=[]; data_e8=[]; data_e9=[]\n",
    "data_e10=[]; data_e11=[]; data_e12=[]\n",
    "data_e13=[]; data_e14=[]; data_e15=[]\n",
    "data_e16=[]; data_e17=[]; data_e18=[]\n",
    "data_e19=[]; data_e20=[]; data_e21=[]\n",
    "data_e22=[]; data_e23=[]; data_e24=[]\n",
    "data_e25=[]; data_e26=[]; data_e27=[]\n",
    "# load data\n",
    "for i in range(len(files)):\n",
    "    data_e1.append(np.loadtxt('./RPT-sim-data/results_1/'+nom_file[i]))\n",
    "    data_e2.append(np.loadtxt('./RPT-sim-data/results_2/'+nom_file[i]))\n",
    "    data_e3.append(np.loadtxt('./RPT-sim-data/results_3/'+nom_file[i]))\n",
    "    data_e4.append(np.loadtxt('./RPT-sim-data/results_4/'+nom_file[i]))\n",
    "    data_e5.append(np.loadtxt('./RPT-sim-data/results_5/'+nom_file[i]))\n",
    "    data_e6.append(np.loadtxt('./RPT-sim-data/results_6/'+nom_file[i]))\n",
    "    data_e7.append(np.loadtxt('./RPT-sim-data/results_7/'+nom_file[i]))\n",
    "    data_e8.append(np.loadtxt('./RPT-sim-data/results_8/'+nom_file[i]))\n",
    "    data_e9.append(np.loadtxt('./RPT-sim-data/results_9/'+nom_file[i]))\n",
    "    data_e10.append(np.loadtxt('./RPT-sim-data/results_10/'+nom_file[i]))\n",
    "    data_e11.append(np.loadtxt('./RPT-sim-data/results_11/'+nom_file[i]))\n",
    "    data_e12.append(np.loadtxt('./RPT-sim-data/results_12/'+nom_file[i]))\n",
    "    data_e13.append(np.loadtxt('./RPT-sim-data/results_13/'+nom_file[i]))\n",
    "    data_e14.append(np.loadtxt('./RPT-sim-data/results_14/'+nom_file[i]))\n",
    "    data_e15.append(np.loadtxt('./RPT-sim-data/results_15/'+nom_file[i]))\n",
    "    data_e16.append(np.loadtxt('./RPT-sim-data/results_16/'+nom_file[i]))\n",
    "    data_e17.append(np.loadtxt('./RPT-sim-data/results_17/'+nom_file[i]))\n",
    "    data_e18.append(np.loadtxt('./RPT-sim-data/results_18/'+nom_file[i]))\n",
    "    data_e19.append(np.loadtxt('./RPT-sim-data/results_19/'+nom_file[i]))\n",
    "    data_e20.append(np.loadtxt('./RPT-sim-data/results_20/'+nom_file[i]))\n",
    "    data_e21.append(np.loadtxt('./RPT-sim-data/results_21/'+nom_file[i]))\n",
    "    data_e22.append(np.loadtxt('./RPT-sim-data/results_22/'+nom_file[i]))\n",
    "    data_e23.append(np.loadtxt('./RPT-sim-data/results_23/'+nom_file[i]))\n",
    "    data_e24.append(np.loadtxt('./RPT-sim-data/results_24/'+nom_file[i]))\n",
    "    data_e25.append(np.loadtxt('./RPT-sim-data/results_25/'+nom_file[i]))\n",
    "    data_e26.append(np.loadtxt('./RPT-sim-data/results_26/'+nom_file[i]))\n",
    "    data_e27.append(np.loadtxt('./RPT-sim-data/results_27/'+nom_file[i]))"
   ],
   "metadata": {
    "collapsed": false,
    "pycharm": {
     "name": "#%%\n"
    }
   },
   "execution_count": 4,
   "outputs": []
  },
  {
   "cell_type": "code",
   "source": [
    "# transform data into spectra_simula class variable\n",
    "from utils2 import spectra_simula\n",
    "data_s1=[]; data_s2=[]; data_s3=[]\n",
    "data_s4=[]; data_s5=[]; data_s6=[]\n",
    "data_s7=[]; data_s8=[]; data_s9=[]\n",
    "data_s10=[]; data_s11=[]; data_s12=[]\n",
    "data_s13=[]; data_s14=[]; data_s15=[]\n",
    "data_s16=[]; data_s17=[]; data_s18=[]\n",
    "data_s19=[]; data_s20=[]; data_s21=[]\n",
    "data_s22=[]; data_s23=[]; data_s24=[]\n",
    "data_s25=[]; data_s26=[]; data_s27=[]\n",
    "for i in range(2036):\n",
    "    data_s1.append(spectra_simula(data_e1[i],1e6,370000*0.85))\n",
    "    data_s2.append(spectra_simula(data_e2[i],1e6,370000*0.85))\n",
    "    data_s3.append(spectra_simula(data_e3[i],1e6,370000*0.85))\n",
    "    data_s4.append(spectra_simula(data_e4[i],1e6,370000*0.85))\n",
    "    data_s5.append(spectra_simula(data_e5[i],1e6,370000*0.85))\n",
    "    data_s6.append(spectra_simula(data_e6[i],1e6,370000*0.85))\n",
    "    data_s7.append(spectra_simula(data_e7[i],1e6,370000*0.85))\n",
    "    data_s8.append(spectra_simula(data_e8[i],1e6,370000*0.85))\n",
    "    data_s9.append(spectra_simula(data_e9[i],1e6,370000*0.85))\n",
    "    data_s10.append(spectra_simula(data_e10[i],1e6,370000*0.85))\n",
    "    data_s11.append(spectra_simula(data_e11[i],1e6,370000*0.85))\n",
    "    data_s12.append(spectra_simula(data_e12[i],1e6,370000*0.85))\n",
    "    data_s13.append(spectra_simula(data_e13[i],1e6,370000*0.85))\n",
    "    data_s14.append(spectra_simula(data_e14[i],1e6,370000*0.85))\n",
    "    data_s15.append(spectra_simula(data_e15[i],1e6,370000*0.85))\n",
    "    data_s16.append(spectra_simula(data_e16[i],1e6,370000*0.85))\n",
    "    data_s17.append(spectra_simula(data_e17[i],1e6,370000*0.85))\n",
    "    data_s18.append(spectra_simula(data_e18[i],1e6,370000*0.85))\n",
    "    data_s19.append(spectra_simula(data_e19[i],1e6,370000*0.85))\n",
    "    data_s20.append(spectra_simula(data_e20[i],1e6,370000*0.85))\n",
    "    data_s21.append(spectra_simula(data_e21[i],1e6,370000*0.85))\n",
    "    data_s22.append(spectra_simula(data_e22[i],1e6,370000*0.85))\n",
    "    data_s23.append(spectra_simula(data_e23[i],1e6,370000*0.85))\n",
    "    data_s24.append(spectra_simula(data_e24[i],1e6,370000*0.85))\n",
    "    data_s25.append(spectra_simula(data_e25[i],1e6,370000*0.85))\n",
    "    data_s26.append(spectra_simula(data_e26[i],1e6,370000*0.85))\n",
    "    data_s27.append(spectra_simula(data_e27[i],1e6,370000*0.85))"
   ],
   "metadata": {
    "collapsed": false,
    "pycharm": {
     "name": "#%%\n"
    }
   },
   "execution_count": 5,
   "outputs": []
  },
  {
   "cell_type": "code",
   "source": [
    "# save all these data in a tensor\n",
    "spec_sca=np.zeros((2036,27))\n",
    "for i in range(2036):\n",
    "    spec_sca[i,0]=(data_s1[i].max_peak())\n",
    "    spec_sca[i,1]=(data_s2[i].max_peak())\n",
    "    spec_sca[i,2]=(data_s3[i].max_peak())\n",
    "    spec_sca[i,3]=(data_s4[i].max_peak())\n",
    "    spec_sca[i,4]=(data_s5[i].max_peak())\n",
    "    spec_sca[i,5]=(data_s6[i].max_peak())\n",
    "    spec_sca[i,6]=(data_s7[i].max_peak())\n",
    "    spec_sca[i,7]=(data_s8[i].max_peak())\n",
    "    spec_sca[i,8]=(data_s9[i].max_peak())\n",
    "    spec_sca[i,9]=(data_s10[i].max_peak())\n",
    "    spec_sca[i,10]=(data_s11[i].max_peak())\n",
    "    spec_sca[i,11]=(data_s12[i].max_peak())\n",
    "    spec_sca[i,12]=(data_s13[i].max_peak())\n",
    "    spec_sca[i,13]=(data_s14[i].max_peak())\n",
    "    spec_sca[i,14]=(data_s15[i].max_peak())\n",
    "    spec_sca[i,15]=(data_s16[i].max_peak())\n",
    "    spec_sca[i,16]=(data_s17[i].max_peak())\n",
    "    spec_sca[i,17]=(data_s18[i].max_peak())\n",
    "    spec_sca[i,18]=(data_s19[i].max_peak())\n",
    "    spec_sca[i,19]=(data_s20[i].max_peak())\n",
    "    spec_sca[i,20]=(data_s21[i].max_peak())\n",
    "    spec_sca[i,21]=(data_s22[i].max_peak())\n",
    "    spec_sca[i,22]=(data_s23[i].max_peak())\n",
    "    spec_sca[i,23]=(data_s24[i].max_peak())\n",
    "    spec_sca[i,24]=(data_s25[i].max_peak())\n",
    "    spec_sca[i,25]=(data_s26[i].max_peak())\n",
    "    spec_sca[i,26]=(data_s27[i].max_peak())"
   ],
   "metadata": {
    "collapsed": false,
    "pycharm": {
     "name": "#%%\n"
    }
   },
   "execution_count": 6,
   "outputs": []
  },
  {
   "cell_type": "code",
   "execution_count": 7,
   "outputs": [
    {
     "data": {
      "text/plain": "                     0          1          2          3          4     \\\ndistance_points    0.0000    0.00048    0.00096    0.00144    0.00192   \n0 0 20 cm        378.3435  378.65800  380.23050  381.48850  383.37550   \n0 0 40 cm        238.0765  239.96350  239.64900  240.27800  240.59250   \n0 0 60 cm        147.8150  147.81500  148.12950  146.87150  147.50050   \n0 -25 20 cm      328.6525  329.91050  330.85400  333.05550  333.99900   \n0 -25 40 cm      222.0370  221.72250  221.40800  222.98050  223.60950   \n0 -25 60 cm      148.1295  147.50050  147.50050  148.12950  148.12950   \n0 25 20 cm       303.8070  306.00850  306.32300  305.37950  306.00850   \n0 25 40 cm       216.3760  216.06150  215.74700  217.31950  216.37600   \n0 25 60 cm       164.4835  164.79800  165.11250  163.85450  162.59650   \n24 0 20 cm       183.9825  184.61150  184.29700  184.29700  184.92600   \n24 0 40 cm       183.9825  163.54000  164.16900  163.54000  163.22550   \n24 0 60 cm       107.5590  106.93000  106.30100  107.24450  107.55900   \n24 -25 20 cm     170.4590  170.14450  168.88650  168.57200  168.25750   \n24 -25 40 cm     135.8640  135.23500  133.34800  133.66250  132.71900   \n24 -25 60 cm     113.8490  113.84900  113.84900  113.84900  114.47800   \n24 25 20 cm      179.5795  180.20850  180.20850  180.83750  179.57950   \n24 25 40 cm      147.8150  147.81500  147.81500  149.70200  149.07300   \n24 25 60 cm      115.4215  115.42150  115.73600  115.42150  115.42150   \n-24 0 20 cm      770.2105  772.41200  772.72650  775.87150  778.38750   \n-24 0 40 cm      374.5695  374.25500  376.77100  378.65800  380.85950   \n-24 0 60 cm      197.5060  196.56250  197.50600  198.76400  200.65100   \n-24 -25 20 cm    570.5030  571.76100  567.98700  567.98700  567.98700   \n-24 -25 40 cm    312.6130  312.92750  310.41150  309.78250  311.66950   \n-24 -25 60 cm    183.3535  180.52300  178.00700  177.37800  178.32150   \n-24 25 20 cm     576.1640  577.42200  579.62350  580.56700  576.47850   \n-24 25 40 cm     316.3870  315.75800  316.38700  318.27400  316.07250   \n-24 25 60 cm     198.4495  197.19150  197.82050  197.50600  197.19150   \n\n                     5          6          7          8          9     ...  \\\ndistance_points    0.0024    0.00288    0.00336    0.00384    0.00432  ...   \n0 0 20 cm        384.3190  384.94800  384.00450  384.63350  384.63350  ...   \n0 0 40 cm        240.9070  242.47950  242.79400  242.79400  243.10850  ...   \n0 0 60 cm        147.8150  148.75850  148.75850  149.38750  148.44400  ...   \n0 -25 20 cm      333.6845  335.57150  336.82950  338.40200  339.34550  ...   \n0 -25 40 cm      226.1255  227.38350  227.69800  228.01250  227.38350  ...   \n0 -25 60 cm      148.1295  147.50050  147.81500  146.55700  147.18600  ...   \n0 25 20 cm       306.0085  306.95200  307.58100  308.83900  309.78250  ...   \n0 25 40 cm       216.0615  217.94850  216.69050  216.37600  216.37600  ...   \n0 25 60 cm       162.9110  163.85450  164.16900  163.85450  163.22550  ...   \n24 0 20 cm       184.2970  184.61150  183.98250  183.98250  184.29700  ...   \n24 0 40 cm       161.9675  162.59650  161.33850  161.65300  161.96750  ...   \n24 0 60 cm       106.9300  107.24450  107.24450  106.93000  107.24450  ...   \n24 -25 20 cm     168.5720  168.25750  168.88650  168.57200  168.57200  ...   \n24 -25 40 cm     132.4045  132.40450  133.66250  133.34800  133.03350  ...   \n24 -25 60 cm     114.1635  113.84900  113.84900  114.47800  115.10700  ...   \n24 25 20 cm      180.2085  179.89400  180.83750  181.15200  181.78100  ...   \n24 25 40 cm      148.7585  148.44400  149.38750  149.38750  150.01650  ...   \n24 25 60 cm      116.0505  115.42150  115.10700  114.79250  114.16350  ...   \n-24 0 20 cm      778.7020  779.64550  781.84700  782.79050  786.25000  ...   \n-24 0 40 cm      382.7465  382.43200  381.48850  382.74650  381.48850  ...   \n-24 0 60 cm      200.3365  200.65100  199.70750  200.96550  200.96550  ...   \n-24 -25 20 cm    567.9870  568.30150  567.67250  569.24500  568.93050  ...   \n-24 -25 40 cm    310.4115  310.09700  310.72600  311.04050  313.87100  ...   \n-24 -25 60 cm    178.9505  179.26500  178.00700  177.06350  177.06350  ...   \n-24 25 20 cm     575.2205  575.84950  578.68000  581.19600  578.68000  ...   \n-24 25 40 cm     316.3870  315.12900  314.50000  313.87100  312.29850  ...   \n-24 25 60 cm     199.3930  200.02200  198.76400  198.76400  200.02200  ...   \n\n                       2026        2027        2028        2029        2030  \\\ndistance_points    0.972432    0.972912    0.973392    0.973872    0.974352   \n0 0 20 cm        367.650500  368.279500  367.965000  367.021500  367.650500   \n0 0 40 cm        251.914500  251.914500  253.487000  253.487000  254.745000   \n0 0 60 cm        160.709500  159.766000  159.451500  157.879000  157.879000   \n0 -25 20 cm      316.072500  317.016000  314.814500  313.871000  311.040500   \n0 -25 40 cm      230.214000  229.270500  229.585000  228.641500  229.270500   \n0 -25 60 cm      153.476000  153.790500  153.161500  152.847000  152.218000   \n0 25 20 cm       323.935000  323.620500  324.249500  322.991500  325.193000   \n0 25 40 cm       226.125500  226.754500  226.440000  225.811000  225.182000   \n0 25 60 cm       148.758500  148.444000  148.444000  147.815000  148.758500   \n24 0 20 cm       800.088000  798.515500  796.628500  794.112500  794.741500   \n24 0 40 cm       393.125000  393.754000  391.867000  391.867000  390.923500   \n24 0 60 cm       216.690500  217.634000  217.319500  218.892000  218.892000   \n24 -25 20 cm     575.220500  574.591500  572.704500  571.761000  571.446500   \n24 -25 40 cm     321.419000  322.048000  318.588500  318.903000  318.903000   \n24 -25 60 cm     194.361000  193.417500  194.361000  194.361000  191.845000   \n24 25 20 cm      579.938000  581.825000  582.454000  584.655500  581.196000   \n24 25 40 cm      317.330500  317.016000  318.588500  318.903000  319.846500   \n24 25 60 cm      186.184000  185.240500  185.240500  184.926000  183.982500   \n-24 0 20 cm      199.393000  200.651000  201.280000  200.965500  201.280000   \n-24 0 40 cm      154.105000  154.105000  153.161500  153.790500  153.476000   \n-24 0 60 cm      118.252000  118.252000  118.566500  118.881000  118.566500   \n-24 -25 20 cm    183.039000  182.095500  181.781000  180.837500  179.894000   \n-24 -25 40 cm    142.783000  142.783000  142.154000  141.525000  140.581500   \n-24 -25 60 cm    118.881000  118.881000  118.881000  119.195500  118.252000   \n-24 25 20 cm     175.805500  174.862000  174.862000  174.233000  172.975000   \n-24 25 40 cm     147.500500  146.871500  146.557000  146.242500  145.613500   \n-24 25 60 cm     101.269000  100.011000  100.640000  100.011000  100.640000   \n\n                       2031        2032        2033        2034        2035  \ndistance_points    0.974832    0.975312    0.975792    0.976272    0.976752  \n0 0 20 cm        365.449000  365.134500  363.876500  361.989500  359.788000  \n0 0 40 cm        254.745000  254.745000  255.059500  255.059500  256.003000  \n0 0 60 cm        158.822500  159.766000  159.451500  159.137000  158.822500  \n0 -25 20 cm      312.298500  312.298500  312.613000  311.040500  311.040500  \n0 -25 40 cm      230.843000  230.214000  231.786500  231.786500  230.528500  \n0 -25 60 cm      151.903500  150.645500  151.274500  153.476000  154.105000  \n0 25 20 cm       324.249500  323.620500  320.790000  321.733500  318.588500  \n0 25 40 cm       225.811000  224.867500  224.238500  224.553000  222.666000  \n0 25 60 cm       150.331000  150.960000  151.274500  152.532500  151.589000  \n24 0 20 cm       794.741500  792.540000  791.282000  791.282000  790.967500  \n24 0 40 cm       388.722000  387.149500  385.262500  386.520500  385.577000  \n24 0 60 cm       219.521000  218.892000  220.150000  219.521000  220.150000  \n24 -25 20 cm     570.817500  569.559500  572.075500  572.390000  572.704500  \n24 -25 40 cm     320.475500  321.104500  319.217500  319.846500  319.217500  \n24 -25 60 cm     189.329000  191.845000  191.216000  189.958000  189.643500  \n24 25 20 cm      582.454000  579.309000  579.623500  578.365500  578.365500  \n24 25 40 cm      322.677000  323.620500  322.048000  323.306000  320.475500  \n24 25 60 cm      183.668000  185.555000  187.127500  187.442000  185.869500  \n-24 0 20 cm      201.280000  201.594500  201.909000  201.909000  202.223500  \n-24 0 40 cm      153.161500  152.218000  151.903500  151.589000  150.960000  \n-24 0 60 cm      119.510000  118.881000  118.881000  118.881000  116.994000  \n-24 -25 20 cm    179.579500  179.579500  179.894000  179.579500  178.007000  \n-24 -25 40 cm    141.525000  141.525000  140.267000  139.638000  139.323500  \n-24 -25 60 cm    117.623000  118.252000  117.308500  116.679500  116.365000  \n-24 25 20 cm     172.975000  173.289500  172.660500  172.346000  172.975000  \n-24 25 40 cm     146.242500  145.613500  145.613500  145.613500  146.557000  \n-24 25 60 cm     100.640000  101.269000  101.898000  101.583500  101.583500  \n\n[28 rows x 2036 columns]",
      "text/html": "<div>\n<style scoped>\n    .dataframe tbody tr th:only-of-type {\n        vertical-align: middle;\n    }\n\n    .dataframe tbody tr th {\n        vertical-align: top;\n    }\n\n    .dataframe thead th {\n        text-align: right;\n    }\n</style>\n<table border=\"1\" class=\"dataframe\">\n  <thead>\n    <tr style=\"text-align: right;\">\n      <th></th>\n      <th>0</th>\n      <th>1</th>\n      <th>2</th>\n      <th>3</th>\n      <th>4</th>\n      <th>5</th>\n      <th>6</th>\n      <th>7</th>\n      <th>8</th>\n      <th>9</th>\n      <th>...</th>\n      <th>2026</th>\n      <th>2027</th>\n      <th>2028</th>\n      <th>2029</th>\n      <th>2030</th>\n      <th>2031</th>\n      <th>2032</th>\n      <th>2033</th>\n      <th>2034</th>\n      <th>2035</th>\n    </tr>\n  </thead>\n  <tbody>\n    <tr>\n      <th>distance_points</th>\n      <td>0.0000</td>\n      <td>0.00048</td>\n      <td>0.00096</td>\n      <td>0.00144</td>\n      <td>0.00192</td>\n      <td>0.0024</td>\n      <td>0.00288</td>\n      <td>0.00336</td>\n      <td>0.00384</td>\n      <td>0.00432</td>\n      <td>...</td>\n      <td>0.972432</td>\n      <td>0.972912</td>\n      <td>0.973392</td>\n      <td>0.973872</td>\n      <td>0.974352</td>\n      <td>0.974832</td>\n      <td>0.975312</td>\n      <td>0.975792</td>\n      <td>0.976272</td>\n      <td>0.976752</td>\n    </tr>\n    <tr>\n      <th>0 0 20 cm</th>\n      <td>378.3435</td>\n      <td>378.65800</td>\n      <td>380.23050</td>\n      <td>381.48850</td>\n      <td>383.37550</td>\n      <td>384.3190</td>\n      <td>384.94800</td>\n      <td>384.00450</td>\n      <td>384.63350</td>\n      <td>384.63350</td>\n      <td>...</td>\n      <td>367.650500</td>\n      <td>368.279500</td>\n      <td>367.965000</td>\n      <td>367.021500</td>\n      <td>367.650500</td>\n      <td>365.449000</td>\n      <td>365.134500</td>\n      <td>363.876500</td>\n      <td>361.989500</td>\n      <td>359.788000</td>\n    </tr>\n    <tr>\n      <th>0 0 40 cm</th>\n      <td>238.0765</td>\n      <td>239.96350</td>\n      <td>239.64900</td>\n      <td>240.27800</td>\n      <td>240.59250</td>\n      <td>240.9070</td>\n      <td>242.47950</td>\n      <td>242.79400</td>\n      <td>242.79400</td>\n      <td>243.10850</td>\n      <td>...</td>\n      <td>251.914500</td>\n      <td>251.914500</td>\n      <td>253.487000</td>\n      <td>253.487000</td>\n      <td>254.745000</td>\n      <td>254.745000</td>\n      <td>254.745000</td>\n      <td>255.059500</td>\n      <td>255.059500</td>\n      <td>256.003000</td>\n    </tr>\n    <tr>\n      <th>0 0 60 cm</th>\n      <td>147.8150</td>\n      <td>147.81500</td>\n      <td>148.12950</td>\n      <td>146.87150</td>\n      <td>147.50050</td>\n      <td>147.8150</td>\n      <td>148.75850</td>\n      <td>148.75850</td>\n      <td>149.38750</td>\n      <td>148.44400</td>\n      <td>...</td>\n      <td>160.709500</td>\n      <td>159.766000</td>\n      <td>159.451500</td>\n      <td>157.879000</td>\n      <td>157.879000</td>\n      <td>158.822500</td>\n      <td>159.766000</td>\n      <td>159.451500</td>\n      <td>159.137000</td>\n      <td>158.822500</td>\n    </tr>\n    <tr>\n      <th>0 -25 20 cm</th>\n      <td>328.6525</td>\n      <td>329.91050</td>\n      <td>330.85400</td>\n      <td>333.05550</td>\n      <td>333.99900</td>\n      <td>333.6845</td>\n      <td>335.57150</td>\n      <td>336.82950</td>\n      <td>338.40200</td>\n      <td>339.34550</td>\n      <td>...</td>\n      <td>316.072500</td>\n      <td>317.016000</td>\n      <td>314.814500</td>\n      <td>313.871000</td>\n      <td>311.040500</td>\n      <td>312.298500</td>\n      <td>312.298500</td>\n      <td>312.613000</td>\n      <td>311.040500</td>\n      <td>311.040500</td>\n    </tr>\n    <tr>\n      <th>0 -25 40 cm</th>\n      <td>222.0370</td>\n      <td>221.72250</td>\n      <td>221.40800</td>\n      <td>222.98050</td>\n      <td>223.60950</td>\n      <td>226.1255</td>\n      <td>227.38350</td>\n      <td>227.69800</td>\n      <td>228.01250</td>\n      <td>227.38350</td>\n      <td>...</td>\n      <td>230.214000</td>\n      <td>229.270500</td>\n      <td>229.585000</td>\n      <td>228.641500</td>\n      <td>229.270500</td>\n      <td>230.843000</td>\n      <td>230.214000</td>\n      <td>231.786500</td>\n      <td>231.786500</td>\n      <td>230.528500</td>\n    </tr>\n    <tr>\n      <th>0 -25 60 cm</th>\n      <td>148.1295</td>\n      <td>147.50050</td>\n      <td>147.50050</td>\n      <td>148.12950</td>\n      <td>148.12950</td>\n      <td>148.1295</td>\n      <td>147.50050</td>\n      <td>147.81500</td>\n      <td>146.55700</td>\n      <td>147.18600</td>\n      <td>...</td>\n      <td>153.476000</td>\n      <td>153.790500</td>\n      <td>153.161500</td>\n      <td>152.847000</td>\n      <td>152.218000</td>\n      <td>151.903500</td>\n      <td>150.645500</td>\n      <td>151.274500</td>\n      <td>153.476000</td>\n      <td>154.105000</td>\n    </tr>\n    <tr>\n      <th>0 25 20 cm</th>\n      <td>303.8070</td>\n      <td>306.00850</td>\n      <td>306.32300</td>\n      <td>305.37950</td>\n      <td>306.00850</td>\n      <td>306.0085</td>\n      <td>306.95200</td>\n      <td>307.58100</td>\n      <td>308.83900</td>\n      <td>309.78250</td>\n      <td>...</td>\n      <td>323.935000</td>\n      <td>323.620500</td>\n      <td>324.249500</td>\n      <td>322.991500</td>\n      <td>325.193000</td>\n      <td>324.249500</td>\n      <td>323.620500</td>\n      <td>320.790000</td>\n      <td>321.733500</td>\n      <td>318.588500</td>\n    </tr>\n    <tr>\n      <th>0 25 40 cm</th>\n      <td>216.3760</td>\n      <td>216.06150</td>\n      <td>215.74700</td>\n      <td>217.31950</td>\n      <td>216.37600</td>\n      <td>216.0615</td>\n      <td>217.94850</td>\n      <td>216.69050</td>\n      <td>216.37600</td>\n      <td>216.37600</td>\n      <td>...</td>\n      <td>226.125500</td>\n      <td>226.754500</td>\n      <td>226.440000</td>\n      <td>225.811000</td>\n      <td>225.182000</td>\n      <td>225.811000</td>\n      <td>224.867500</td>\n      <td>224.238500</td>\n      <td>224.553000</td>\n      <td>222.666000</td>\n    </tr>\n    <tr>\n      <th>0 25 60 cm</th>\n      <td>164.4835</td>\n      <td>164.79800</td>\n      <td>165.11250</td>\n      <td>163.85450</td>\n      <td>162.59650</td>\n      <td>162.9110</td>\n      <td>163.85450</td>\n      <td>164.16900</td>\n      <td>163.85450</td>\n      <td>163.22550</td>\n      <td>...</td>\n      <td>148.758500</td>\n      <td>148.444000</td>\n      <td>148.444000</td>\n      <td>147.815000</td>\n      <td>148.758500</td>\n      <td>150.331000</td>\n      <td>150.960000</td>\n      <td>151.274500</td>\n      <td>152.532500</td>\n      <td>151.589000</td>\n    </tr>\n    <tr>\n      <th>24 0 20 cm</th>\n      <td>183.9825</td>\n      <td>184.61150</td>\n      <td>184.29700</td>\n      <td>184.29700</td>\n      <td>184.92600</td>\n      <td>184.2970</td>\n      <td>184.61150</td>\n      <td>183.98250</td>\n      <td>183.98250</td>\n      <td>184.29700</td>\n      <td>...</td>\n      <td>800.088000</td>\n      <td>798.515500</td>\n      <td>796.628500</td>\n      <td>794.112500</td>\n      <td>794.741500</td>\n      <td>794.741500</td>\n      <td>792.540000</td>\n      <td>791.282000</td>\n      <td>791.282000</td>\n      <td>790.967500</td>\n    </tr>\n    <tr>\n      <th>24 0 40 cm</th>\n      <td>183.9825</td>\n      <td>163.54000</td>\n      <td>164.16900</td>\n      <td>163.54000</td>\n      <td>163.22550</td>\n      <td>161.9675</td>\n      <td>162.59650</td>\n      <td>161.33850</td>\n      <td>161.65300</td>\n      <td>161.96750</td>\n      <td>...</td>\n      <td>393.125000</td>\n      <td>393.754000</td>\n      <td>391.867000</td>\n      <td>391.867000</td>\n      <td>390.923500</td>\n      <td>388.722000</td>\n      <td>387.149500</td>\n      <td>385.262500</td>\n      <td>386.520500</td>\n      <td>385.577000</td>\n    </tr>\n    <tr>\n      <th>24 0 60 cm</th>\n      <td>107.5590</td>\n      <td>106.93000</td>\n      <td>106.30100</td>\n      <td>107.24450</td>\n      <td>107.55900</td>\n      <td>106.9300</td>\n      <td>107.24450</td>\n      <td>107.24450</td>\n      <td>106.93000</td>\n      <td>107.24450</td>\n      <td>...</td>\n      <td>216.690500</td>\n      <td>217.634000</td>\n      <td>217.319500</td>\n      <td>218.892000</td>\n      <td>218.892000</td>\n      <td>219.521000</td>\n      <td>218.892000</td>\n      <td>220.150000</td>\n      <td>219.521000</td>\n      <td>220.150000</td>\n    </tr>\n    <tr>\n      <th>24 -25 20 cm</th>\n      <td>170.4590</td>\n      <td>170.14450</td>\n      <td>168.88650</td>\n      <td>168.57200</td>\n      <td>168.25750</td>\n      <td>168.5720</td>\n      <td>168.25750</td>\n      <td>168.88650</td>\n      <td>168.57200</td>\n      <td>168.57200</td>\n      <td>...</td>\n      <td>575.220500</td>\n      <td>574.591500</td>\n      <td>572.704500</td>\n      <td>571.761000</td>\n      <td>571.446500</td>\n      <td>570.817500</td>\n      <td>569.559500</td>\n      <td>572.075500</td>\n      <td>572.390000</td>\n      <td>572.704500</td>\n    </tr>\n    <tr>\n      <th>24 -25 40 cm</th>\n      <td>135.8640</td>\n      <td>135.23500</td>\n      <td>133.34800</td>\n      <td>133.66250</td>\n      <td>132.71900</td>\n      <td>132.4045</td>\n      <td>132.40450</td>\n      <td>133.66250</td>\n      <td>133.34800</td>\n      <td>133.03350</td>\n      <td>...</td>\n      <td>321.419000</td>\n      <td>322.048000</td>\n      <td>318.588500</td>\n      <td>318.903000</td>\n      <td>318.903000</td>\n      <td>320.475500</td>\n      <td>321.104500</td>\n      <td>319.217500</td>\n      <td>319.846500</td>\n      <td>319.217500</td>\n    </tr>\n    <tr>\n      <th>24 -25 60 cm</th>\n      <td>113.8490</td>\n      <td>113.84900</td>\n      <td>113.84900</td>\n      <td>113.84900</td>\n      <td>114.47800</td>\n      <td>114.1635</td>\n      <td>113.84900</td>\n      <td>113.84900</td>\n      <td>114.47800</td>\n      <td>115.10700</td>\n      <td>...</td>\n      <td>194.361000</td>\n      <td>193.417500</td>\n      <td>194.361000</td>\n      <td>194.361000</td>\n      <td>191.845000</td>\n      <td>189.329000</td>\n      <td>191.845000</td>\n      <td>191.216000</td>\n      <td>189.958000</td>\n      <td>189.643500</td>\n    </tr>\n    <tr>\n      <th>24 25 20 cm</th>\n      <td>179.5795</td>\n      <td>180.20850</td>\n      <td>180.20850</td>\n      <td>180.83750</td>\n      <td>179.57950</td>\n      <td>180.2085</td>\n      <td>179.89400</td>\n      <td>180.83750</td>\n      <td>181.15200</td>\n      <td>181.78100</td>\n      <td>...</td>\n      <td>579.938000</td>\n      <td>581.825000</td>\n      <td>582.454000</td>\n      <td>584.655500</td>\n      <td>581.196000</td>\n      <td>582.454000</td>\n      <td>579.309000</td>\n      <td>579.623500</td>\n      <td>578.365500</td>\n      <td>578.365500</td>\n    </tr>\n    <tr>\n      <th>24 25 40 cm</th>\n      <td>147.8150</td>\n      <td>147.81500</td>\n      <td>147.81500</td>\n      <td>149.70200</td>\n      <td>149.07300</td>\n      <td>148.7585</td>\n      <td>148.44400</td>\n      <td>149.38750</td>\n      <td>149.38750</td>\n      <td>150.01650</td>\n      <td>...</td>\n      <td>317.330500</td>\n      <td>317.016000</td>\n      <td>318.588500</td>\n      <td>318.903000</td>\n      <td>319.846500</td>\n      <td>322.677000</td>\n      <td>323.620500</td>\n      <td>322.048000</td>\n      <td>323.306000</td>\n      <td>320.475500</td>\n    </tr>\n    <tr>\n      <th>24 25 60 cm</th>\n      <td>115.4215</td>\n      <td>115.42150</td>\n      <td>115.73600</td>\n      <td>115.42150</td>\n      <td>115.42150</td>\n      <td>116.0505</td>\n      <td>115.42150</td>\n      <td>115.10700</td>\n      <td>114.79250</td>\n      <td>114.16350</td>\n      <td>...</td>\n      <td>186.184000</td>\n      <td>185.240500</td>\n      <td>185.240500</td>\n      <td>184.926000</td>\n      <td>183.982500</td>\n      <td>183.668000</td>\n      <td>185.555000</td>\n      <td>187.127500</td>\n      <td>187.442000</td>\n      <td>185.869500</td>\n    </tr>\n    <tr>\n      <th>-24 0 20 cm</th>\n      <td>770.2105</td>\n      <td>772.41200</td>\n      <td>772.72650</td>\n      <td>775.87150</td>\n      <td>778.38750</td>\n      <td>778.7020</td>\n      <td>779.64550</td>\n      <td>781.84700</td>\n      <td>782.79050</td>\n      <td>786.25000</td>\n      <td>...</td>\n      <td>199.393000</td>\n      <td>200.651000</td>\n      <td>201.280000</td>\n      <td>200.965500</td>\n      <td>201.280000</td>\n      <td>201.280000</td>\n      <td>201.594500</td>\n      <td>201.909000</td>\n      <td>201.909000</td>\n      <td>202.223500</td>\n    </tr>\n    <tr>\n      <th>-24 0 40 cm</th>\n      <td>374.5695</td>\n      <td>374.25500</td>\n      <td>376.77100</td>\n      <td>378.65800</td>\n      <td>380.85950</td>\n      <td>382.7465</td>\n      <td>382.43200</td>\n      <td>381.48850</td>\n      <td>382.74650</td>\n      <td>381.48850</td>\n      <td>...</td>\n      <td>154.105000</td>\n      <td>154.105000</td>\n      <td>153.161500</td>\n      <td>153.790500</td>\n      <td>153.476000</td>\n      <td>153.161500</td>\n      <td>152.218000</td>\n      <td>151.903500</td>\n      <td>151.589000</td>\n      <td>150.960000</td>\n    </tr>\n    <tr>\n      <th>-24 0 60 cm</th>\n      <td>197.5060</td>\n      <td>196.56250</td>\n      <td>197.50600</td>\n      <td>198.76400</td>\n      <td>200.65100</td>\n      <td>200.3365</td>\n      <td>200.65100</td>\n      <td>199.70750</td>\n      <td>200.96550</td>\n      <td>200.96550</td>\n      <td>...</td>\n      <td>118.252000</td>\n      <td>118.252000</td>\n      <td>118.566500</td>\n      <td>118.881000</td>\n      <td>118.566500</td>\n      <td>119.510000</td>\n      <td>118.881000</td>\n      <td>118.881000</td>\n      <td>118.881000</td>\n      <td>116.994000</td>\n    </tr>\n    <tr>\n      <th>-24 -25 20 cm</th>\n      <td>570.5030</td>\n      <td>571.76100</td>\n      <td>567.98700</td>\n      <td>567.98700</td>\n      <td>567.98700</td>\n      <td>567.9870</td>\n      <td>568.30150</td>\n      <td>567.67250</td>\n      <td>569.24500</td>\n      <td>568.93050</td>\n      <td>...</td>\n      <td>183.039000</td>\n      <td>182.095500</td>\n      <td>181.781000</td>\n      <td>180.837500</td>\n      <td>179.894000</td>\n      <td>179.579500</td>\n      <td>179.579500</td>\n      <td>179.894000</td>\n      <td>179.579500</td>\n      <td>178.007000</td>\n    </tr>\n    <tr>\n      <th>-24 -25 40 cm</th>\n      <td>312.6130</td>\n      <td>312.92750</td>\n      <td>310.41150</td>\n      <td>309.78250</td>\n      <td>311.66950</td>\n      <td>310.4115</td>\n      <td>310.09700</td>\n      <td>310.72600</td>\n      <td>311.04050</td>\n      <td>313.87100</td>\n      <td>...</td>\n      <td>142.783000</td>\n      <td>142.783000</td>\n      <td>142.154000</td>\n      <td>141.525000</td>\n      <td>140.581500</td>\n      <td>141.525000</td>\n      <td>141.525000</td>\n      <td>140.267000</td>\n      <td>139.638000</td>\n      <td>139.323500</td>\n    </tr>\n    <tr>\n      <th>-24 -25 60 cm</th>\n      <td>183.3535</td>\n      <td>180.52300</td>\n      <td>178.00700</td>\n      <td>177.37800</td>\n      <td>178.32150</td>\n      <td>178.9505</td>\n      <td>179.26500</td>\n      <td>178.00700</td>\n      <td>177.06350</td>\n      <td>177.06350</td>\n      <td>...</td>\n      <td>118.881000</td>\n      <td>118.881000</td>\n      <td>118.881000</td>\n      <td>119.195500</td>\n      <td>118.252000</td>\n      <td>117.623000</td>\n      <td>118.252000</td>\n      <td>117.308500</td>\n      <td>116.679500</td>\n      <td>116.365000</td>\n    </tr>\n    <tr>\n      <th>-24 25 20 cm</th>\n      <td>576.1640</td>\n      <td>577.42200</td>\n      <td>579.62350</td>\n      <td>580.56700</td>\n      <td>576.47850</td>\n      <td>575.2205</td>\n      <td>575.84950</td>\n      <td>578.68000</td>\n      <td>581.19600</td>\n      <td>578.68000</td>\n      <td>...</td>\n      <td>175.805500</td>\n      <td>174.862000</td>\n      <td>174.862000</td>\n      <td>174.233000</td>\n      <td>172.975000</td>\n      <td>172.975000</td>\n      <td>173.289500</td>\n      <td>172.660500</td>\n      <td>172.346000</td>\n      <td>172.975000</td>\n    </tr>\n    <tr>\n      <th>-24 25 40 cm</th>\n      <td>316.3870</td>\n      <td>315.75800</td>\n      <td>316.38700</td>\n      <td>318.27400</td>\n      <td>316.07250</td>\n      <td>316.3870</td>\n      <td>315.12900</td>\n      <td>314.50000</td>\n      <td>313.87100</td>\n      <td>312.29850</td>\n      <td>...</td>\n      <td>147.500500</td>\n      <td>146.871500</td>\n      <td>146.557000</td>\n      <td>146.242500</td>\n      <td>145.613500</td>\n      <td>146.242500</td>\n      <td>145.613500</td>\n      <td>145.613500</td>\n      <td>145.613500</td>\n      <td>146.557000</td>\n    </tr>\n    <tr>\n      <th>-24 25 60 cm</th>\n      <td>198.4495</td>\n      <td>197.19150</td>\n      <td>197.82050</td>\n      <td>197.50600</td>\n      <td>197.19150</td>\n      <td>199.3930</td>\n      <td>200.02200</td>\n      <td>198.76400</td>\n      <td>198.76400</td>\n      <td>200.02200</td>\n      <td>...</td>\n      <td>101.269000</td>\n      <td>100.011000</td>\n      <td>100.640000</td>\n      <td>100.011000</td>\n      <td>100.640000</td>\n      <td>100.640000</td>\n      <td>101.269000</td>\n      <td>101.898000</td>\n      <td>101.583500</td>\n      <td>101.583500</td>\n    </tr>\n  </tbody>\n</table>\n<p>28 rows × 2036 columns</p>\n</div>"
     },
     "execution_count": 7,
     "metadata": {},
     "output_type": "execute_result"
    }
   ],
   "source": [
    "# load the positions\n",
    "pos=np.loadtxt('Posicionesmm.txt')\n",
    "# save the data\n",
    "det_pos=[\"distance_points\", \"0 0 20 cm\",\"0 0 40 cm\",\"0 0 60 cm\",\"0 -25 20 cm\",\"0 -25 40 cm\", \"0 -25 60 cm\",\"0 25 20 cm\",\"0 25 40 cm\",\"0 25 60 cm\", \"24 0 20 cm\",\"24 0 40 cm\",\"24 0 60 cm\",\"24 -25 20 cm\",\"24 -25 40 cm\", \"24 -25 60 cm\",\"24 25 20 cm\",\"24 25 40 cm\",\"24 25 60 cm\", \"-24 0 20 cm\",\"-24 0 40 cm\",\"-24 0 60 cm\",\"-24 -25 20 cm\",\"-24 -25 40 cm\",\"-24 -25 60 cm\",\"-24 25 20 cm\",\"-24 25 40 cm\",\"-24 25 60 cm\"]\n",
    "resul_t_d=np.zeros((28,2036))\n",
    "resul_t_d[0,:]=pos\n",
    "for i in range(1,28):\n",
    "    resul_t_d[i,:]=spec_sca[:,i-1]\n",
    "result_f=pd.DataFrame(data=resul_t_d,index=[det_pos])\n",
    "result_f.to_csv('result_f.csv',index=False)\n",
    "result_f"
   ],
   "metadata": {
    "collapsed": false,
    "pycharm": {
     "name": "#%%\n"
    }
   }
  },
  {
   "cell_type": "markdown",
   "source": [
    "# plot the results\n",
    "fig1, ax1=plt.subplots(3,3,figsize=[18,18])\n",
    "ax1[0,0].plot(pos,spec_sca[:,0])\n",
    "ax1[0,0].set_title('Detector position 0,0,20 cm')\n",
    "ax1[0,0].set_xlabel('Radiactive source position (m)')\n",
    "ax1[0,0].set_ylabel('Count rate (cps)')\n",
    "\n",
    "ax1[0,1].plot(pos,spec_sca[:,1])\n",
    "ax1[0,1].set_title('Detector position 0,0,40 cm')\n",
    "ax1[0,1].set_xlabel('Radiactive source position (m)')\n",
    "ax1[0,1].set_ylabel('Count rate (cps)')\n",
    "\n",
    "ax1[0,2].plot(pos,spec_sca[:,2])\n",
    "ax1[0,2].set_title('Detector position 0,0,60 cm')\n",
    "ax1[0,2].set_xlabel('Radiactive source position (m)')\n",
    "ax1[0,2].set_ylabel('Count rate (cps)')\n",
    "\n",
    "ax1[1,0].plot(pos,spec_sca[:,3])\n",
    "ax1[1,0].set_title('Detector position 0,-25,20 cm')\n",
    "ax1[1,0].set_xlabel('Radiactive source position (m)')\n",
    "ax1[1,0].set_ylabel('Count rate (cps)')\n",
    "\n",
    "ax1[1,1].plot(pos,spec_sca[:,4])\n",
    "ax1[1,1].set_title('Detector position 0,-25,40 cm')\n",
    "ax1[1,1].set_xlabel('Radiactive source position (m)')\n",
    "ax1[1,1].set_ylabel('Count rate (cps)')\n",
    "\n",
    "ax1[1,2].plot(pos,spec_sca[:,5])\n",
    "ax1[1,2].set_title('Detector position 0,-25,60 cm')\n",
    "ax1[1,2].set_xlabel('Radiactive source position (m)')\n",
    "ax1[1,2].set_ylabel('Count rate (cps)')\n",
    "\n",
    "ax1[2,0].plot(pos,spec_sca[:,6])\n",
    "ax1[2,0].set_title('Detector position 0,25,20 cm')\n",
    "ax1[2,0].set_xlabel('Radiactive source position (m)')\n",
    "ax1[2,0].set_ylabel('Count rate (cps)')\n",
    "\n",
    "ax1[2,1].plot(pos,spec_sca[:,7])\n",
    "ax1[2,1].set_title('Detector position 0,25,40 cm')\n",
    "ax1[2,1].set_xlabel('Radiactive source position (m)')\n",
    "ax1[2,1].set_ylabel('Count rate (cps)')\n",
    "\n",
    "ax1[2,2].plot(pos,spec_sca[:,8])\n",
    "ax1[2,2].set_title('Detector position 0,25,60 cm')\n",
    "ax1[2,2].set_xlabel('Radiactive source position (m)')\n",
    "ax1[2,2].set_ylabel('Count rate (cps)')\n",
    "plt.savefig('Center.jpg',dpi=500)"
   ],
   "metadata": {
    "collapsed": false,
    "pycharm": {
     "name": "#%% md\n"
    }
   }
  },
  {
   "cell_type": "markdown",
   "source": [
    "fig2, ax2=plt.subplots(3,3,figsize=[18,18])\n",
    "ax2[0,0].plot(pos,spec_sca[:,9])\n",
    "ax2[0,0].set_title('Detector position 24,0,20 cm')\n",
    "ax2[0,0].set_xlabel('Radiactive source position (m)')\n",
    "ax2[0,0].set_ylabel('Count rate (cps)')\n",
    "\n",
    "ax2[0,1].plot(pos,spec_sca[:,10])\n",
    "ax2[0,1].set_title('Detector position 24,0,40 cm')\n",
    "ax2[0,1].set_xlabel('Radiactive source position (m)')\n",
    "ax2[0,1].set_ylabel('Count rate (cps)')\n",
    "\n",
    "ax2[0,2].plot(pos,spec_sca[:,11])\n",
    "ax2[0,2].set_title('Detector position 24,0,60 cm')\n",
    "ax2[0,2].set_xlabel('Radiactive source position (m)')\n",
    "ax2[0,2].set_ylabel('Count rate (cps)')\n",
    "\n",
    "ax2[1,0].plot(pos,spec_sca[:,12])\n",
    "ax2[1,0].set_title('Detector position 24,-25,20 cm')\n",
    "ax2[1,0].set_xlabel('Radiactive source position (m)')\n",
    "ax2[1,0].set_ylabel('Count rate (cps)')\n",
    "\n",
    "ax2[1,1].plot(pos,spec_sca[:,13])\n",
    "ax2[1,1].set_title('Detector position 24,-25,40 cm')\n",
    "ax2[1,1].set_xlabel('Radiactive source position (m)')\n",
    "ax2[1,1].set_ylabel('Count rate (cps)')\n",
    "\n",
    "ax2[1,2].plot(pos,spec_sca[:,14])\n",
    "ax2[1,2].set_title('Detector position 24,-25,60 cm')\n",
    "ax2[1,2].set_xlabel('Radiactive source position (m)')\n",
    "ax2[1,2].set_ylabel('Count rate (cps)')\n",
    "\n",
    "ax2[2,0].plot(pos,spec_sca[:,15])\n",
    "ax2[2,0].set_title('Detector position 24,25,20 cm')\n",
    "ax2[2,0].set_xlabel('Radiactive source position (m)')\n",
    "ax2[2,0].set_ylabel('Count rate (cps)')\n",
    "\n",
    "ax2[2,1].plot(pos,spec_sca[:,16])\n",
    "ax2[2,1].set_title('Detector position 24,25,40 cm')\n",
    "ax2[2,1].set_xlabel('Radiactive source position (m)')\n",
    "ax2[2,1].set_ylabel('Count rate (cps)')\n",
    "\n",
    "ax2[2,2].plot(pos,spec_sca[:,17])\n",
    "ax2[2,2].set_title('Detector position 24,25,60 cm')\n",
    "ax2[2,2].set_xlabel('Radiactive source position (m)')\n",
    "ax2[2,2].set_ylabel('Count rate (cps)')\n",
    "plt.savefig('Center_1.jpg',dpi=500)"
   ],
   "metadata": {
    "collapsed": false,
    "pycharm": {
     "name": "#%% md\n"
    }
   }
  },
  {
   "cell_type": "markdown",
   "source": [
    "fig3, ax3=plt.subplots(3,3,figsize=[18,18])\n",
    "ax3[0,0].plot(pos,spec_sca[:,18])\n",
    "ax3[0,0].set_title('Detector position -24,0,20 cm')\n",
    "ax3[0,0].set_xlabel('Radiactive source position (m)')\n",
    "ax3[0,0].set_ylabel('Count rate (cps)')\n",
    "\n",
    "ax3[0,1].plot(pos,spec_sca[:,19])\n",
    "ax3[0,1].set_title('Detector position -24,0,40 cm')\n",
    "ax3[0,1].set_xlabel('Radiactive source position (m)')\n",
    "ax3[0,1].set_ylabel('Count rate (cps)')\n",
    "\n",
    "ax3[0,2].plot(pos,spec_sca[:,20])\n",
    "ax3[0,2].set_title('Detector position -24,0,60 cm')\n",
    "ax3[0,2].set_xlabel('Radiactive source position (m)')\n",
    "ax3[0,2].set_ylabel('Count rate (cps)')\n",
    "\n",
    "ax3[1,0].plot(pos,spec_sca[:,21])\n",
    "ax3[1,0].set_title('Detector position -24,-25,20 cm')\n",
    "ax3[1,0].set_xlabel('Radiactive source position (m)')\n",
    "ax3[1,0].set_ylabel('Count rate (cps)')\n",
    "\n",
    "ax3[1,1].plot(pos,spec_sca[:,22])\n",
    "ax3[1,1].set_title('Detector position -24,-25,40 cm')\n",
    "ax3[1,1].set_xlabel('Radiactive source position (m)')\n",
    "ax3[1,1].set_ylabel('Count rate (cps)')\n",
    "\n",
    "ax3[1,2].plot(pos,spec_sca[:,23])\n",
    "ax3[1,2].set_title('Detector position -24,-25,60 cm')\n",
    "ax3[1,2].set_xlabel('Radiactive source position (m)')\n",
    "ax3[1,2].set_ylabel('Count rate (cps)')\n",
    "\n",
    "ax3[2,0].plot(pos,spec_sca[:,24])\n",
    "ax3[2,0].set_title('Detector position -24,25,20 cm')\n",
    "ax3[2,0].set_xlabel('Radiactive source position (m)')\n",
    "ax3[2,0].set_ylabel('Count rate (cps)')\n",
    "\n",
    "ax3[2,1].plot(pos,spec_sca[:,25])\n",
    "ax3[2,1].set_title('Detector position -24,25,40 cm')\n",
    "ax3[2,1].set_xlabel('Radiactive source position (m)')\n",
    "ax3[2,1].set_ylabel('Count rate (cps)')\n",
    "\n",
    "ax3[2,2].plot(pos,spec_sca[:,26])\n",
    "ax3[2,2].set_title('Detector position -24,25,60 cm')\n",
    "ax3[2,2].set_xlabel('Radiactive source position (m)')\n",
    "ax3[2,2].set_ylabel('Count rate (cps)')\n",
    "plt.savefig('Center_2.jpg',dpi=500)"
   ],
   "metadata": {
    "collapsed": false,
    "pycharm": {
     "name": "#%% md\n"
    }
   }
  },
  {
   "cell_type": "code",
   "source": [
    "det_pos=[\"distance_points\",\n",
    "         \"0 0 20 cm\", \"0 0 40 cm\",\"0 0 60 cm\",\"0 -25 20 cm\",\"0 -25 40 cm\", \"0 -25 60 cm\",\"0 25 20 cm\",\"0 25 40 cm\",\"0 25 60 cm\",\n",
    "         \"24 0 20 cm\",\"24 0 40 cm\",\"24 0 60 cm\",\"24 -25 20 cm\",\"24 -25 40 cm\", \"24 -25 60 cm\",\"24 25 20 cm\",\"24 25 40 cm\",\"24 25 60 cm\",\n",
    "         \"-24 0 20 cm\",\"-24 0 40 cm\",\"-24 0 60 cm\",\"-24 -25 20 cm\",\"-24 -25 40 cm\",\"-24 -25 60 cm\",\"-24 25 20 cm\",\"-24 25 40 cm\",\"-24 25 60 cm\"]\n",
    "resul_t_d=np.zeros((28,2036))\n",
    "resul_t_d[0,:]=pos\n",
    "for i in range(1,28):\n",
    "    resul_t_d[i,:]=spec_sca[:,i-1]\n",
    "\n",
    "result_f=pd.DataFrame(data=resul_t_d,index=[det_pos])\n",
    "result_f.to_csv('result_f.csv',index=False)\n",
    "result_f"
   ],
   "metadata": {
    "collapsed": false,
    "pycharm": {
     "name": "#%%\n"
    }
   },
   "execution_count": 8,
   "outputs": [
    {
     "data": {
      "text/plain": "                     0          1          2          3          4     \\\ndistance_points    0.0000    0.00048    0.00096    0.00144    0.00192   \n0 0 20 cm        378.3435  378.65800  380.23050  381.48850  383.37550   \n0 0 40 cm        238.0765  239.96350  239.64900  240.27800  240.59250   \n0 0 60 cm        147.8150  147.81500  148.12950  146.87150  147.50050   \n0 -25 20 cm      328.6525  329.91050  330.85400  333.05550  333.99900   \n0 -25 40 cm      222.0370  221.72250  221.40800  222.98050  223.60950   \n0 -25 60 cm      148.1295  147.50050  147.50050  148.12950  148.12950   \n0 25 20 cm       303.8070  306.00850  306.32300  305.37950  306.00850   \n0 25 40 cm       216.3760  216.06150  215.74700  217.31950  216.37600   \n0 25 60 cm       164.4835  164.79800  165.11250  163.85450  162.59650   \n24 0 20 cm       183.9825  184.61150  184.29700  184.29700  184.92600   \n24 0 40 cm       183.9825  163.54000  164.16900  163.54000  163.22550   \n24 0 60 cm       107.5590  106.93000  106.30100  107.24450  107.55900   \n24 -25 20 cm     170.4590  170.14450  168.88650  168.57200  168.25750   \n24 -25 40 cm     135.8640  135.23500  133.34800  133.66250  132.71900   \n24 -25 60 cm     113.8490  113.84900  113.84900  113.84900  114.47800   \n24 25 20 cm      179.5795  180.20850  180.20850  180.83750  179.57950   \n24 25 40 cm      147.8150  147.81500  147.81500  149.70200  149.07300   \n24 25 60 cm      115.4215  115.42150  115.73600  115.42150  115.42150   \n-24 0 20 cm      770.2105  772.41200  772.72650  775.87150  778.38750   \n-24 0 40 cm      374.5695  374.25500  376.77100  378.65800  380.85950   \n-24 0 60 cm      197.5060  196.56250  197.50600  198.76400  200.65100   \n-24 -25 20 cm    570.5030  571.76100  567.98700  567.98700  567.98700   \n-24 -25 40 cm    312.6130  312.92750  310.41150  309.78250  311.66950   \n-24 -25 60 cm    183.3535  180.52300  178.00700  177.37800  178.32150   \n-24 25 20 cm     576.1640  577.42200  579.62350  580.56700  576.47850   \n-24 25 40 cm     316.3870  315.75800  316.38700  318.27400  316.07250   \n-24 25 60 cm     198.4495  197.19150  197.82050  197.50600  197.19150   \n\n                     5          6          7          8          9     ...  \\\ndistance_points    0.0024    0.00288    0.00336    0.00384    0.00432  ...   \n0 0 20 cm        384.3190  384.94800  384.00450  384.63350  384.63350  ...   \n0 0 40 cm        240.9070  242.47950  242.79400  242.79400  243.10850  ...   \n0 0 60 cm        147.8150  148.75850  148.75850  149.38750  148.44400  ...   \n0 -25 20 cm      333.6845  335.57150  336.82950  338.40200  339.34550  ...   \n0 -25 40 cm      226.1255  227.38350  227.69800  228.01250  227.38350  ...   \n0 -25 60 cm      148.1295  147.50050  147.81500  146.55700  147.18600  ...   \n0 25 20 cm       306.0085  306.95200  307.58100  308.83900  309.78250  ...   \n0 25 40 cm       216.0615  217.94850  216.69050  216.37600  216.37600  ...   \n0 25 60 cm       162.9110  163.85450  164.16900  163.85450  163.22550  ...   \n24 0 20 cm       184.2970  184.61150  183.98250  183.98250  184.29700  ...   \n24 0 40 cm       161.9675  162.59650  161.33850  161.65300  161.96750  ...   \n24 0 60 cm       106.9300  107.24450  107.24450  106.93000  107.24450  ...   \n24 -25 20 cm     168.5720  168.25750  168.88650  168.57200  168.57200  ...   \n24 -25 40 cm     132.4045  132.40450  133.66250  133.34800  133.03350  ...   \n24 -25 60 cm     114.1635  113.84900  113.84900  114.47800  115.10700  ...   \n24 25 20 cm      180.2085  179.89400  180.83750  181.15200  181.78100  ...   \n24 25 40 cm      148.7585  148.44400  149.38750  149.38750  150.01650  ...   \n24 25 60 cm      116.0505  115.42150  115.10700  114.79250  114.16350  ...   \n-24 0 20 cm      778.7020  779.64550  781.84700  782.79050  786.25000  ...   \n-24 0 40 cm      382.7465  382.43200  381.48850  382.74650  381.48850  ...   \n-24 0 60 cm      200.3365  200.65100  199.70750  200.96550  200.96550  ...   \n-24 -25 20 cm    567.9870  568.30150  567.67250  569.24500  568.93050  ...   \n-24 -25 40 cm    310.4115  310.09700  310.72600  311.04050  313.87100  ...   \n-24 -25 60 cm    178.9505  179.26500  178.00700  177.06350  177.06350  ...   \n-24 25 20 cm     575.2205  575.84950  578.68000  581.19600  578.68000  ...   \n-24 25 40 cm     316.3870  315.12900  314.50000  313.87100  312.29850  ...   \n-24 25 60 cm     199.3930  200.02200  198.76400  198.76400  200.02200  ...   \n\n                       2026        2027        2028        2029        2030  \\\ndistance_points    0.972432    0.972912    0.973392    0.973872    0.974352   \n0 0 20 cm        367.650500  368.279500  367.965000  367.021500  367.650500   \n0 0 40 cm        251.914500  251.914500  253.487000  253.487000  254.745000   \n0 0 60 cm        160.709500  159.766000  159.451500  157.879000  157.879000   \n0 -25 20 cm      316.072500  317.016000  314.814500  313.871000  311.040500   \n0 -25 40 cm      230.214000  229.270500  229.585000  228.641500  229.270500   \n0 -25 60 cm      153.476000  153.790500  153.161500  152.847000  152.218000   \n0 25 20 cm       323.935000  323.620500  324.249500  322.991500  325.193000   \n0 25 40 cm       226.125500  226.754500  226.440000  225.811000  225.182000   \n0 25 60 cm       148.758500  148.444000  148.444000  147.815000  148.758500   \n24 0 20 cm       800.088000  798.515500  796.628500  794.112500  794.741500   \n24 0 40 cm       393.125000  393.754000  391.867000  391.867000  390.923500   \n24 0 60 cm       216.690500  217.634000  217.319500  218.892000  218.892000   \n24 -25 20 cm     575.220500  574.591500  572.704500  571.761000  571.446500   \n24 -25 40 cm     321.419000  322.048000  318.588500  318.903000  318.903000   \n24 -25 60 cm     194.361000  193.417500  194.361000  194.361000  191.845000   \n24 25 20 cm      579.938000  581.825000  582.454000  584.655500  581.196000   \n24 25 40 cm      317.330500  317.016000  318.588500  318.903000  319.846500   \n24 25 60 cm      186.184000  185.240500  185.240500  184.926000  183.982500   \n-24 0 20 cm      199.393000  200.651000  201.280000  200.965500  201.280000   \n-24 0 40 cm      154.105000  154.105000  153.161500  153.790500  153.476000   \n-24 0 60 cm      118.252000  118.252000  118.566500  118.881000  118.566500   \n-24 -25 20 cm    183.039000  182.095500  181.781000  180.837500  179.894000   \n-24 -25 40 cm    142.783000  142.783000  142.154000  141.525000  140.581500   \n-24 -25 60 cm    118.881000  118.881000  118.881000  119.195500  118.252000   \n-24 25 20 cm     175.805500  174.862000  174.862000  174.233000  172.975000   \n-24 25 40 cm     147.500500  146.871500  146.557000  146.242500  145.613500   \n-24 25 60 cm     101.269000  100.011000  100.640000  100.011000  100.640000   \n\n                       2031        2032        2033        2034        2035  \ndistance_points    0.974832    0.975312    0.975792    0.976272    0.976752  \n0 0 20 cm        365.449000  365.134500  363.876500  361.989500  359.788000  \n0 0 40 cm        254.745000  254.745000  255.059500  255.059500  256.003000  \n0 0 60 cm        158.822500  159.766000  159.451500  159.137000  158.822500  \n0 -25 20 cm      312.298500  312.298500  312.613000  311.040500  311.040500  \n0 -25 40 cm      230.843000  230.214000  231.786500  231.786500  230.528500  \n0 -25 60 cm      151.903500  150.645500  151.274500  153.476000  154.105000  \n0 25 20 cm       324.249500  323.620500  320.790000  321.733500  318.588500  \n0 25 40 cm       225.811000  224.867500  224.238500  224.553000  222.666000  \n0 25 60 cm       150.331000  150.960000  151.274500  152.532500  151.589000  \n24 0 20 cm       794.741500  792.540000  791.282000  791.282000  790.967500  \n24 0 40 cm       388.722000  387.149500  385.262500  386.520500  385.577000  \n24 0 60 cm       219.521000  218.892000  220.150000  219.521000  220.150000  \n24 -25 20 cm     570.817500  569.559500  572.075500  572.390000  572.704500  \n24 -25 40 cm     320.475500  321.104500  319.217500  319.846500  319.217500  \n24 -25 60 cm     189.329000  191.845000  191.216000  189.958000  189.643500  \n24 25 20 cm      582.454000  579.309000  579.623500  578.365500  578.365500  \n24 25 40 cm      322.677000  323.620500  322.048000  323.306000  320.475500  \n24 25 60 cm      183.668000  185.555000  187.127500  187.442000  185.869500  \n-24 0 20 cm      201.280000  201.594500  201.909000  201.909000  202.223500  \n-24 0 40 cm      153.161500  152.218000  151.903500  151.589000  150.960000  \n-24 0 60 cm      119.510000  118.881000  118.881000  118.881000  116.994000  \n-24 -25 20 cm    179.579500  179.579500  179.894000  179.579500  178.007000  \n-24 -25 40 cm    141.525000  141.525000  140.267000  139.638000  139.323500  \n-24 -25 60 cm    117.623000  118.252000  117.308500  116.679500  116.365000  \n-24 25 20 cm     172.975000  173.289500  172.660500  172.346000  172.975000  \n-24 25 40 cm     146.242500  145.613500  145.613500  145.613500  146.557000  \n-24 25 60 cm     100.640000  101.269000  101.898000  101.583500  101.583500  \n\n[28 rows x 2036 columns]",
      "text/html": "<div>\n<style scoped>\n    .dataframe tbody tr th:only-of-type {\n        vertical-align: middle;\n    }\n\n    .dataframe tbody tr th {\n        vertical-align: top;\n    }\n\n    .dataframe thead th {\n        text-align: right;\n    }\n</style>\n<table border=\"1\" class=\"dataframe\">\n  <thead>\n    <tr style=\"text-align: right;\">\n      <th></th>\n      <th>0</th>\n      <th>1</th>\n      <th>2</th>\n      <th>3</th>\n      <th>4</th>\n      <th>5</th>\n      <th>6</th>\n      <th>7</th>\n      <th>8</th>\n      <th>9</th>\n      <th>...</th>\n      <th>2026</th>\n      <th>2027</th>\n      <th>2028</th>\n      <th>2029</th>\n      <th>2030</th>\n      <th>2031</th>\n      <th>2032</th>\n      <th>2033</th>\n      <th>2034</th>\n      <th>2035</th>\n    </tr>\n  </thead>\n  <tbody>\n    <tr>\n      <th>distance_points</th>\n      <td>0.0000</td>\n      <td>0.00048</td>\n      <td>0.00096</td>\n      <td>0.00144</td>\n      <td>0.00192</td>\n      <td>0.0024</td>\n      <td>0.00288</td>\n      <td>0.00336</td>\n      <td>0.00384</td>\n      <td>0.00432</td>\n      <td>...</td>\n      <td>0.972432</td>\n      <td>0.972912</td>\n      <td>0.973392</td>\n      <td>0.973872</td>\n      <td>0.974352</td>\n      <td>0.974832</td>\n      <td>0.975312</td>\n      <td>0.975792</td>\n      <td>0.976272</td>\n      <td>0.976752</td>\n    </tr>\n    <tr>\n      <th>0 0 20 cm</th>\n      <td>378.3435</td>\n      <td>378.65800</td>\n      <td>380.23050</td>\n      <td>381.48850</td>\n      <td>383.37550</td>\n      <td>384.3190</td>\n      <td>384.94800</td>\n      <td>384.00450</td>\n      <td>384.63350</td>\n      <td>384.63350</td>\n      <td>...</td>\n      <td>367.650500</td>\n      <td>368.279500</td>\n      <td>367.965000</td>\n      <td>367.021500</td>\n      <td>367.650500</td>\n      <td>365.449000</td>\n      <td>365.134500</td>\n      <td>363.876500</td>\n      <td>361.989500</td>\n      <td>359.788000</td>\n    </tr>\n    <tr>\n      <th>0 0 40 cm</th>\n      <td>238.0765</td>\n      <td>239.96350</td>\n      <td>239.64900</td>\n      <td>240.27800</td>\n      <td>240.59250</td>\n      <td>240.9070</td>\n      <td>242.47950</td>\n      <td>242.79400</td>\n      <td>242.79400</td>\n      <td>243.10850</td>\n      <td>...</td>\n      <td>251.914500</td>\n      <td>251.914500</td>\n      <td>253.487000</td>\n      <td>253.487000</td>\n      <td>254.745000</td>\n      <td>254.745000</td>\n      <td>254.745000</td>\n      <td>255.059500</td>\n      <td>255.059500</td>\n      <td>256.003000</td>\n    </tr>\n    <tr>\n      <th>0 0 60 cm</th>\n      <td>147.8150</td>\n      <td>147.81500</td>\n      <td>148.12950</td>\n      <td>146.87150</td>\n      <td>147.50050</td>\n      <td>147.8150</td>\n      <td>148.75850</td>\n      <td>148.75850</td>\n      <td>149.38750</td>\n      <td>148.44400</td>\n      <td>...</td>\n      <td>160.709500</td>\n      <td>159.766000</td>\n      <td>159.451500</td>\n      <td>157.879000</td>\n      <td>157.879000</td>\n      <td>158.822500</td>\n      <td>159.766000</td>\n      <td>159.451500</td>\n      <td>159.137000</td>\n      <td>158.822500</td>\n    </tr>\n    <tr>\n      <th>0 -25 20 cm</th>\n      <td>328.6525</td>\n      <td>329.91050</td>\n      <td>330.85400</td>\n      <td>333.05550</td>\n      <td>333.99900</td>\n      <td>333.6845</td>\n      <td>335.57150</td>\n      <td>336.82950</td>\n      <td>338.40200</td>\n      <td>339.34550</td>\n      <td>...</td>\n      <td>316.072500</td>\n      <td>317.016000</td>\n      <td>314.814500</td>\n      <td>313.871000</td>\n      <td>311.040500</td>\n      <td>312.298500</td>\n      <td>312.298500</td>\n      <td>312.613000</td>\n      <td>311.040500</td>\n      <td>311.040500</td>\n    </tr>\n    <tr>\n      <th>0 -25 40 cm</th>\n      <td>222.0370</td>\n      <td>221.72250</td>\n      <td>221.40800</td>\n      <td>222.98050</td>\n      <td>223.60950</td>\n      <td>226.1255</td>\n      <td>227.38350</td>\n      <td>227.69800</td>\n      <td>228.01250</td>\n      <td>227.38350</td>\n      <td>...</td>\n      <td>230.214000</td>\n      <td>229.270500</td>\n      <td>229.585000</td>\n      <td>228.641500</td>\n      <td>229.270500</td>\n      <td>230.843000</td>\n      <td>230.214000</td>\n      <td>231.786500</td>\n      <td>231.786500</td>\n      <td>230.528500</td>\n    </tr>\n    <tr>\n      <th>0 -25 60 cm</th>\n      <td>148.1295</td>\n      <td>147.50050</td>\n      <td>147.50050</td>\n      <td>148.12950</td>\n      <td>148.12950</td>\n      <td>148.1295</td>\n      <td>147.50050</td>\n      <td>147.81500</td>\n      <td>146.55700</td>\n      <td>147.18600</td>\n      <td>...</td>\n      <td>153.476000</td>\n      <td>153.790500</td>\n      <td>153.161500</td>\n      <td>152.847000</td>\n      <td>152.218000</td>\n      <td>151.903500</td>\n      <td>150.645500</td>\n      <td>151.274500</td>\n      <td>153.476000</td>\n      <td>154.105000</td>\n    </tr>\n    <tr>\n      <th>0 25 20 cm</th>\n      <td>303.8070</td>\n      <td>306.00850</td>\n      <td>306.32300</td>\n      <td>305.37950</td>\n      <td>306.00850</td>\n      <td>306.0085</td>\n      <td>306.95200</td>\n      <td>307.58100</td>\n      <td>308.83900</td>\n      <td>309.78250</td>\n      <td>...</td>\n      <td>323.935000</td>\n      <td>323.620500</td>\n      <td>324.249500</td>\n      <td>322.991500</td>\n      <td>325.193000</td>\n      <td>324.249500</td>\n      <td>323.620500</td>\n      <td>320.790000</td>\n      <td>321.733500</td>\n      <td>318.588500</td>\n    </tr>\n    <tr>\n      <th>0 25 40 cm</th>\n      <td>216.3760</td>\n      <td>216.06150</td>\n      <td>215.74700</td>\n      <td>217.31950</td>\n      <td>216.37600</td>\n      <td>216.0615</td>\n      <td>217.94850</td>\n      <td>216.69050</td>\n      <td>216.37600</td>\n      <td>216.37600</td>\n      <td>...</td>\n      <td>226.125500</td>\n      <td>226.754500</td>\n      <td>226.440000</td>\n      <td>225.811000</td>\n      <td>225.182000</td>\n      <td>225.811000</td>\n      <td>224.867500</td>\n      <td>224.238500</td>\n      <td>224.553000</td>\n      <td>222.666000</td>\n    </tr>\n    <tr>\n      <th>0 25 60 cm</th>\n      <td>164.4835</td>\n      <td>164.79800</td>\n      <td>165.11250</td>\n      <td>163.85450</td>\n      <td>162.59650</td>\n      <td>162.9110</td>\n      <td>163.85450</td>\n      <td>164.16900</td>\n      <td>163.85450</td>\n      <td>163.22550</td>\n      <td>...</td>\n      <td>148.758500</td>\n      <td>148.444000</td>\n      <td>148.444000</td>\n      <td>147.815000</td>\n      <td>148.758500</td>\n      <td>150.331000</td>\n      <td>150.960000</td>\n      <td>151.274500</td>\n      <td>152.532500</td>\n      <td>151.589000</td>\n    </tr>\n    <tr>\n      <th>24 0 20 cm</th>\n      <td>183.9825</td>\n      <td>184.61150</td>\n      <td>184.29700</td>\n      <td>184.29700</td>\n      <td>184.92600</td>\n      <td>184.2970</td>\n      <td>184.61150</td>\n      <td>183.98250</td>\n      <td>183.98250</td>\n      <td>184.29700</td>\n      <td>...</td>\n      <td>800.088000</td>\n      <td>798.515500</td>\n      <td>796.628500</td>\n      <td>794.112500</td>\n      <td>794.741500</td>\n      <td>794.741500</td>\n      <td>792.540000</td>\n      <td>791.282000</td>\n      <td>791.282000</td>\n      <td>790.967500</td>\n    </tr>\n    <tr>\n      <th>24 0 40 cm</th>\n      <td>183.9825</td>\n      <td>163.54000</td>\n      <td>164.16900</td>\n      <td>163.54000</td>\n      <td>163.22550</td>\n      <td>161.9675</td>\n      <td>162.59650</td>\n      <td>161.33850</td>\n      <td>161.65300</td>\n      <td>161.96750</td>\n      <td>...</td>\n      <td>393.125000</td>\n      <td>393.754000</td>\n      <td>391.867000</td>\n      <td>391.867000</td>\n      <td>390.923500</td>\n      <td>388.722000</td>\n      <td>387.149500</td>\n      <td>385.262500</td>\n      <td>386.520500</td>\n      <td>385.577000</td>\n    </tr>\n    <tr>\n      <th>24 0 60 cm</th>\n      <td>107.5590</td>\n      <td>106.93000</td>\n      <td>106.30100</td>\n      <td>107.24450</td>\n      <td>107.55900</td>\n      <td>106.9300</td>\n      <td>107.24450</td>\n      <td>107.24450</td>\n      <td>106.93000</td>\n      <td>107.24450</td>\n      <td>...</td>\n      <td>216.690500</td>\n      <td>217.634000</td>\n      <td>217.319500</td>\n      <td>218.892000</td>\n      <td>218.892000</td>\n      <td>219.521000</td>\n      <td>218.892000</td>\n      <td>220.150000</td>\n      <td>219.521000</td>\n      <td>220.150000</td>\n    </tr>\n    <tr>\n      <th>24 -25 20 cm</th>\n      <td>170.4590</td>\n      <td>170.14450</td>\n      <td>168.88650</td>\n      <td>168.57200</td>\n      <td>168.25750</td>\n      <td>168.5720</td>\n      <td>168.25750</td>\n      <td>168.88650</td>\n      <td>168.57200</td>\n      <td>168.57200</td>\n      <td>...</td>\n      <td>575.220500</td>\n      <td>574.591500</td>\n      <td>572.704500</td>\n      <td>571.761000</td>\n      <td>571.446500</td>\n      <td>570.817500</td>\n      <td>569.559500</td>\n      <td>572.075500</td>\n      <td>572.390000</td>\n      <td>572.704500</td>\n    </tr>\n    <tr>\n      <th>24 -25 40 cm</th>\n      <td>135.8640</td>\n      <td>135.23500</td>\n      <td>133.34800</td>\n      <td>133.66250</td>\n      <td>132.71900</td>\n      <td>132.4045</td>\n      <td>132.40450</td>\n      <td>133.66250</td>\n      <td>133.34800</td>\n      <td>133.03350</td>\n      <td>...</td>\n      <td>321.419000</td>\n      <td>322.048000</td>\n      <td>318.588500</td>\n      <td>318.903000</td>\n      <td>318.903000</td>\n      <td>320.475500</td>\n      <td>321.104500</td>\n      <td>319.217500</td>\n      <td>319.846500</td>\n      <td>319.217500</td>\n    </tr>\n    <tr>\n      <th>24 -25 60 cm</th>\n      <td>113.8490</td>\n      <td>113.84900</td>\n      <td>113.84900</td>\n      <td>113.84900</td>\n      <td>114.47800</td>\n      <td>114.1635</td>\n      <td>113.84900</td>\n      <td>113.84900</td>\n      <td>114.47800</td>\n      <td>115.10700</td>\n      <td>...</td>\n      <td>194.361000</td>\n      <td>193.417500</td>\n      <td>194.361000</td>\n      <td>194.361000</td>\n      <td>191.845000</td>\n      <td>189.329000</td>\n      <td>191.845000</td>\n      <td>191.216000</td>\n      <td>189.958000</td>\n      <td>189.643500</td>\n    </tr>\n    <tr>\n      <th>24 25 20 cm</th>\n      <td>179.5795</td>\n      <td>180.20850</td>\n      <td>180.20850</td>\n      <td>180.83750</td>\n      <td>179.57950</td>\n      <td>180.2085</td>\n      <td>179.89400</td>\n      <td>180.83750</td>\n      <td>181.15200</td>\n      <td>181.78100</td>\n      <td>...</td>\n      <td>579.938000</td>\n      <td>581.825000</td>\n      <td>582.454000</td>\n      <td>584.655500</td>\n      <td>581.196000</td>\n      <td>582.454000</td>\n      <td>579.309000</td>\n      <td>579.623500</td>\n      <td>578.365500</td>\n      <td>578.365500</td>\n    </tr>\n    <tr>\n      <th>24 25 40 cm</th>\n      <td>147.8150</td>\n      <td>147.81500</td>\n      <td>147.81500</td>\n      <td>149.70200</td>\n      <td>149.07300</td>\n      <td>148.7585</td>\n      <td>148.44400</td>\n      <td>149.38750</td>\n      <td>149.38750</td>\n      <td>150.01650</td>\n      <td>...</td>\n      <td>317.330500</td>\n      <td>317.016000</td>\n      <td>318.588500</td>\n      <td>318.903000</td>\n      <td>319.846500</td>\n      <td>322.677000</td>\n      <td>323.620500</td>\n      <td>322.048000</td>\n      <td>323.306000</td>\n      <td>320.475500</td>\n    </tr>\n    <tr>\n      <th>24 25 60 cm</th>\n      <td>115.4215</td>\n      <td>115.42150</td>\n      <td>115.73600</td>\n      <td>115.42150</td>\n      <td>115.42150</td>\n      <td>116.0505</td>\n      <td>115.42150</td>\n      <td>115.10700</td>\n      <td>114.79250</td>\n      <td>114.16350</td>\n      <td>...</td>\n      <td>186.184000</td>\n      <td>185.240500</td>\n      <td>185.240500</td>\n      <td>184.926000</td>\n      <td>183.982500</td>\n      <td>183.668000</td>\n      <td>185.555000</td>\n      <td>187.127500</td>\n      <td>187.442000</td>\n      <td>185.869500</td>\n    </tr>\n    <tr>\n      <th>-24 0 20 cm</th>\n      <td>770.2105</td>\n      <td>772.41200</td>\n      <td>772.72650</td>\n      <td>775.87150</td>\n      <td>778.38750</td>\n      <td>778.7020</td>\n      <td>779.64550</td>\n      <td>781.84700</td>\n      <td>782.79050</td>\n      <td>786.25000</td>\n      <td>...</td>\n      <td>199.393000</td>\n      <td>200.651000</td>\n      <td>201.280000</td>\n      <td>200.965500</td>\n      <td>201.280000</td>\n      <td>201.280000</td>\n      <td>201.594500</td>\n      <td>201.909000</td>\n      <td>201.909000</td>\n      <td>202.223500</td>\n    </tr>\n    <tr>\n      <th>-24 0 40 cm</th>\n      <td>374.5695</td>\n      <td>374.25500</td>\n      <td>376.77100</td>\n      <td>378.65800</td>\n      <td>380.85950</td>\n      <td>382.7465</td>\n      <td>382.43200</td>\n      <td>381.48850</td>\n      <td>382.74650</td>\n      <td>381.48850</td>\n      <td>...</td>\n      <td>154.105000</td>\n      <td>154.105000</td>\n      <td>153.161500</td>\n      <td>153.790500</td>\n      <td>153.476000</td>\n      <td>153.161500</td>\n      <td>152.218000</td>\n      <td>151.903500</td>\n      <td>151.589000</td>\n      <td>150.960000</td>\n    </tr>\n    <tr>\n      <th>-24 0 60 cm</th>\n      <td>197.5060</td>\n      <td>196.56250</td>\n      <td>197.50600</td>\n      <td>198.76400</td>\n      <td>200.65100</td>\n      <td>200.3365</td>\n      <td>200.65100</td>\n      <td>199.70750</td>\n      <td>200.96550</td>\n      <td>200.96550</td>\n      <td>...</td>\n      <td>118.252000</td>\n      <td>118.252000</td>\n      <td>118.566500</td>\n      <td>118.881000</td>\n      <td>118.566500</td>\n      <td>119.510000</td>\n      <td>118.881000</td>\n      <td>118.881000</td>\n      <td>118.881000</td>\n      <td>116.994000</td>\n    </tr>\n    <tr>\n      <th>-24 -25 20 cm</th>\n      <td>570.5030</td>\n      <td>571.76100</td>\n      <td>567.98700</td>\n      <td>567.98700</td>\n      <td>567.98700</td>\n      <td>567.9870</td>\n      <td>568.30150</td>\n      <td>567.67250</td>\n      <td>569.24500</td>\n      <td>568.93050</td>\n      <td>...</td>\n      <td>183.039000</td>\n      <td>182.095500</td>\n      <td>181.781000</td>\n      <td>180.837500</td>\n      <td>179.894000</td>\n      <td>179.579500</td>\n      <td>179.579500</td>\n      <td>179.894000</td>\n      <td>179.579500</td>\n      <td>178.007000</td>\n    </tr>\n    <tr>\n      <th>-24 -25 40 cm</th>\n      <td>312.6130</td>\n      <td>312.92750</td>\n      <td>310.41150</td>\n      <td>309.78250</td>\n      <td>311.66950</td>\n      <td>310.4115</td>\n      <td>310.09700</td>\n      <td>310.72600</td>\n      <td>311.04050</td>\n      <td>313.87100</td>\n      <td>...</td>\n      <td>142.783000</td>\n      <td>142.783000</td>\n      <td>142.154000</td>\n      <td>141.525000</td>\n      <td>140.581500</td>\n      <td>141.525000</td>\n      <td>141.525000</td>\n      <td>140.267000</td>\n      <td>139.638000</td>\n      <td>139.323500</td>\n    </tr>\n    <tr>\n      <th>-24 -25 60 cm</th>\n      <td>183.3535</td>\n      <td>180.52300</td>\n      <td>178.00700</td>\n      <td>177.37800</td>\n      <td>178.32150</td>\n      <td>178.9505</td>\n      <td>179.26500</td>\n      <td>178.00700</td>\n      <td>177.06350</td>\n      <td>177.06350</td>\n      <td>...</td>\n      <td>118.881000</td>\n      <td>118.881000</td>\n      <td>118.881000</td>\n      <td>119.195500</td>\n      <td>118.252000</td>\n      <td>117.623000</td>\n      <td>118.252000</td>\n      <td>117.308500</td>\n      <td>116.679500</td>\n      <td>116.365000</td>\n    </tr>\n    <tr>\n      <th>-24 25 20 cm</th>\n      <td>576.1640</td>\n      <td>577.42200</td>\n      <td>579.62350</td>\n      <td>580.56700</td>\n      <td>576.47850</td>\n      <td>575.2205</td>\n      <td>575.84950</td>\n      <td>578.68000</td>\n      <td>581.19600</td>\n      <td>578.68000</td>\n      <td>...</td>\n      <td>175.805500</td>\n      <td>174.862000</td>\n      <td>174.862000</td>\n      <td>174.233000</td>\n      <td>172.975000</td>\n      <td>172.975000</td>\n      <td>173.289500</td>\n      <td>172.660500</td>\n      <td>172.346000</td>\n      <td>172.975000</td>\n    </tr>\n    <tr>\n      <th>-24 25 40 cm</th>\n      <td>316.3870</td>\n      <td>315.75800</td>\n      <td>316.38700</td>\n      <td>318.27400</td>\n      <td>316.07250</td>\n      <td>316.3870</td>\n      <td>315.12900</td>\n      <td>314.50000</td>\n      <td>313.87100</td>\n      <td>312.29850</td>\n      <td>...</td>\n      <td>147.500500</td>\n      <td>146.871500</td>\n      <td>146.557000</td>\n      <td>146.242500</td>\n      <td>145.613500</td>\n      <td>146.242500</td>\n      <td>145.613500</td>\n      <td>145.613500</td>\n      <td>145.613500</td>\n      <td>146.557000</td>\n    </tr>\n    <tr>\n      <th>-24 25 60 cm</th>\n      <td>198.4495</td>\n      <td>197.19150</td>\n      <td>197.82050</td>\n      <td>197.50600</td>\n      <td>197.19150</td>\n      <td>199.3930</td>\n      <td>200.02200</td>\n      <td>198.76400</td>\n      <td>198.76400</td>\n      <td>200.02200</td>\n      <td>...</td>\n      <td>101.269000</td>\n      <td>100.011000</td>\n      <td>100.640000</td>\n      <td>100.011000</td>\n      <td>100.640000</td>\n      <td>100.640000</td>\n      <td>101.269000</td>\n      <td>101.898000</td>\n      <td>101.583500</td>\n      <td>101.583500</td>\n    </tr>\n  </tbody>\n</table>\n<p>28 rows × 2036 columns</p>\n</div>"
     },
     "execution_count": 8,
     "metadata": {},
     "output_type": "execute_result"
    }
   ]
  }
 ],
 "metadata": {
  "kernelspec": {
   "display_name": "Python 3",
   "language": "python",
   "name": "python3"
  },
  "language_info": {
   "codemirror_mode": {
    "name": "ipython",
    "version": 2
   },
   "file_extension": ".py",
   "mimetype": "text/x-python",
   "name": "python",
   "nbconvert_exporter": "python",
   "pygments_lexer": "ipython2",
   "version": "2.7.6"
  }
 },
 "nbformat": 4,
 "nbformat_minor": 0
}